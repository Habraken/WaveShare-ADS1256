{
 "cells": [
  {
   "cell_type": "code",
   "execution_count": 1,
   "metadata": {},
   "outputs": [],
   "source": [
    "from matplotlib import pyplot as plt\n",
    "import matplotlib.colors as colors\n",
    "import numpy as np\n",
    "from scipy.signal import find_peaks"
   ]
  },
  {
   "cell_type": "code",
   "execution_count": null,
   "metadata": {},
   "outputs": [],
   "source": [
    "# insert measurement data for plotting\n",
    "\n",
    "# Series 1\n",
    "# offset = 250mV DC, amplitude = 200mVpp AC,, buffer=on, CH3\n",
    "# measurement interval = 20 seconds\n",
    "# d=3 > 1865 S/s  \n",
    "\n",
    "x_series1 = [0.100,0.200,0.400,0.800,1.000,2.000,4.000,8.000,10.00,20.00,40.00] # Frequency points\n",
    "y_series1 = [-27.9,-30.6,-34.7,-40.0,-41.8,-47.6,-53.5,-59.7,-61.6,-68.2,-76.9] # Magnitude in dBV\n",
    "\n",
    "# Series 2\n",
    "# offset = 250mV DC, amplitude = 200mVpp AC, with a voltage controlled current source where 1 V = 100nA, buffer=on, CH2\n",
    "# measurement interval = 20 seconds\n",
    "# d=3 > 1865 S/s  \n",
    "\n",
    "x_series2 = [0.100,0.200,0.400,0.800,1.000,2.000,4.000,8.000,10.00,20.00,40.00,80.00,100.0,200.0,400.0,800.0] # Frequency points\n",
    "y_series2 = [-28.6,-29.3,-30.1,-31.0,-31.3,-32.2,-33.0,-37.5,-33.9,-35.4,-37.3,-38.6,-38.2,-38.9,-38.8,-45.1] # Magnitude in dBV\n",
    "\n",
    "# Series 3\n",
    "# offset = 250mV DC, amplitude = 200mVpp AC, with a voltage controlled current source where 1V = 100nA into a photo diode bridge with 10 Mega Ohm resistors,\n",
    "# buffer=on, CH2, measurement interval = 20 seconds\n",
    "# d=3 > 1865 S/s  \n",
    "\n",
    "x_series3 = [0.100,0.200,0.400,0.800,1.000,2.000,4.000,8.000,10.00,20.00,40.00,80.00,100.0,200.0,400.0,800.0] # Frequency points\n",
    "y_series3 = [-36.8,-37.2,-37.7,-38.3,-38.4,-39.0,-39.5,-41.3,-44.9,-41.0,-43.4,-44.7,-44.6,-44.1,-44.5,-49.2] # Magnitude in dBV"
   ]
  },
  {
   "cell_type": "code",
   "execution_count": null,
   "metadata": {},
   "outputs": [],
   "source": [
    "data = np.loadtxt(\"/tmp/adc_data.csv\") # reading in volts\n",
    "\n",
    "print('n:{:>19d}'.format(len(data)))\n",
    "print('median: {: .6e}'.format(np.median(data)))\n",
    "print('mean:   {: .6e}'.format(np.mean(data)))\n",
    "#print('max:    {: .6e}'.format(np.max(data)))\n",
    "#print('min:    {: .6e}'.format(np.min(data)))\n",
    "print('std:    {: .6e}'.format(np.std(data)))\n",
    "print('p2p:    {: .6e}'.format(np.max(data)-np.min(data)))\n",
    "#print(' 0.05%: {: .6e}'.format(np.percentile(data, 0.05)))\n",
    "#print('99.95%: {: .6e}'.format(np.percentile(data,99.95)))\n",
    "print('99.9%:  {: .6e}'.format(np.percentile(data,99.95)-np.percentile(data, 0.05))) \n",
    "#Should be equivalent to 6.6 x sigma or 6.6 x std, assuming a gaussian distribution.\n"
   ]
  },
  {
   "cell_type": "code",
   "execution_count": null,
   "metadata": {},
   "outputs": [],
   "source": [
    "fig, axis = plt.subplots(figsize =(15, 6), facecolor=(1,1,1))\n",
    "\n",
    "n = 2**14 # number of samples\n",
    "s = 200 # starting sample\n",
    "y = data[s:s+n]\n",
    "axis.plot(y, 'o')\n",
    "\n",
    "axis.set_ylabel('Amplitude [V]')\n",
    "#axis.set_xlabel('Voltage [$\\mu V$]')\n",
    "axis.set_xlabel('Sample')\n",
    "#axis.set_xlabel('Voltage [V]')\n",
    "axis.set_title(r'ADC readings')\n",
    "#plt.grid()\n",
    "plt.savefig('adc_readings.png', bbox_inches='tight')\n",
    "plt.show()"
   ]
  },
  {
   "cell_type": "code",
   "execution_count": null,
   "metadata": {},
   "outputs": [],
   "source": [
    "fig, axis = plt.subplots(figsize =(15, 6), facecolor=(1,1,1))\n",
    "\n",
    "# create histogram\n",
    "n, bins, patches = axis.hist(data, bins=1000, density=True)\n",
    "\n",
    "# add a 'best fit' line\n",
    "sigma = np.std(data)\n",
    "mu = np.mean(data)\n",
    "y = ((1 / (np.sqrt(2 * np.pi) * sigma)) * np.exp(-0.5 * (1 / sigma * (bins - mu))**2))\n",
    "axis.plot(bins, y, '--')\n",
    "\n",
    "axis.set_ylabel('Probability Density')\n",
    "#axis.set_xlabel('Voltage [$\\mu V$]')\n",
    "axis.set_xlabel('Voltage [V]')\n",
    "#axis.set_xlabel('Voltage [V]')\n",
    "axis.set_title(r'Histogram ADC readings')\n",
    "#plt.grid()\n",
    "plt.savefig('histogram.png', bbox_inches='tight')\n",
    "plt.show()"
   ]
  },
  {
   "cell_type": "code",
   "execution_count": null,
   "metadata": {},
   "outputs": [],
   "source": [
    "n = data.size\n",
    "data_rate = 2463 # fill in the sample rate reported by the rpi_adc_stream command\n",
    "time_step = 1./data_rate\n",
    "freq_bins = np.fft.rfftfreq(n, d=time_step)\n",
    "bin_width = 1/(data.size*time_step)\n",
    "spectrum  = np.fft.rfft(data, norm='forward')\n",
    "\n",
    "peaks, _ = find_peaks(np.abs(spectrum), height=0.00001, distance=10000) # find all peaks >= 2.0 uV^2/Hz\n",
    "peaks.resize(peaks.size+1) # peaks consistently misses the first index (DC, 0 Hz) \n",
    "peaks.sort()               # by resizing and sorting this is corrected\n",
    "\n",
    "\n",
    "fig, axis = plt.subplots(figsize =(15, 6), facecolor=(1,1,1))\n",
    "#plt.plot(freqbins,20*np.log10(np.abs(fourier.real)), '.')\n",
    "axis.plot(freq_bins, 20 * np.log10(np.abs(spectrum)), '.')\n",
    "axis.plot(freq_bins[peaks], 20 * np.log10(np.abs(spectrum[peaks])), 'x' )\n",
    "#axis.plot(x_series1, y_series1, '--')\n",
    "#axis.plot(x_series2, y_series2, '--')\n",
    "#axis.plot(x_series3, y_series3, '--')\n",
    "axis.set_xlabel('Frequency [Hz]')\n",
    "#axis.set_ylabel('Amplitude [$\\mu$V]')\n",
    "axis.set_ylabel('Amplitude [dBV]')\n",
    "axis.set_title(r'Spectrogram ADC readings')\n",
    "plt.ylim(-130,10)\n",
    "plt.xlim(-1e1,1.25e3)\n",
    "plt.grid()\n",
    "plt.savefig('spectrogram.png', bbox_inches='tight') \n",
    "plt.show()"
   ]
  },
  {
   "cell_type": "code",
   "execution_count": null,
   "metadata": {},
   "outputs": [],
   "source": [
    "print('DC         :','{: .5e}'.format(np.abs(spectrum[0])))\n",
    "print('bin width  :','{: .5e}'.format(bin_width))\n",
    "print('Vnoise_rms :','{: .5e}'.format((np.sum(np.abs(spectrum)*bin_width)-np.abs(spectrum[0]*bin_width))/2*1.57))\n",
    "# Somehow just taking the total sum of the real part and dividing by 2 gives an accurate result for just gaussian noise. Why?\n",
    "# it seems to work only for long measurement intervals > 100s? 1.57 is the correction factor for a 1 pole filter.\n",
    "print('\\nPeaks:\\n')\n",
    "print(' Freq. [Hz]    |  Ampl. [dBV]  ')\n",
    "print(' --------------|-------------- ')\n",
    "for i in peaks:\n",
    "    print('{: .5e}'.format(freq_bins[i]),'  |','{: .5e}'.format(20 * np.log10(np.abs(spectrum[i]))))\n"
   ]
  },
  {
   "cell_type": "code",
   "execution_count": null,
   "metadata": {},
   "outputs": [],
   "source": [
    "\n",
    "fig, (axis1,axis2) = plt.subplots(1,2, figsize =(16, 9), facecolor=(1,1,1))\n",
    "fft_points = (2 ** 12)\n",
    "time_step = 1./data_rate\n",
    "bin_width = 1/(data.size*time_step)\n",
    "freq_bins = np.fft.rfftfreq(fft_points, d=time_step)\n",
    "waterfall = np.empty((int(data.size/fft_points),int(fft_points/2)+1))\n",
    "background = np.empty(int(data.size/fft_points))\n",
    "print(waterfall.shape)\n",
    "for i in range(int(data.size/fft_points)):\n",
    "    waterfall[i,] = 20 * np.log10(np.abs(np.fft.rfft(data[i*fft_points:(i+1)*fft_points], norm='forward')))\n",
    "    background[i] = waterfall[i,0]\n",
    "plot1 = axis2.imshow(waterfall, extent=[np.min(freq_bins),np.max(freq_bins),int(data.size/fft_points),0], vmin=-130,vmax=10) # vmin=10e-5,vmax=10e1, norm=colors.Normalize()\n",
    "fig.colorbar(plot1, label='Amplitude [dBV]')\n",
    "plot2 = axis1.plot(background,'.')\n",
    "axis2.set_xlabel('Frequency [Hz]')\n",
    "axis2.set_title(r'Waterfall Spectrogram ADC readings')\n",
    "plt.savefig('waterfall.png', bbox_inches='tight')\n",
    "plt.show()"
   ]
  }
 ],
 "metadata": {
  "kernelspec": {
   "display_name": "Python 3",
   "language": "python",
   "name": "python3"
  },
  "language_info": {
   "codemirror_mode": {
    "name": "ipython",
    "version": 3
   },
   "file_extension": ".py",
   "mimetype": "text/x-python",
   "name": "python",
   "nbconvert_exporter": "python",
   "pygments_lexer": "ipython3",
   "version": "3.9.2"
  },
  "orig_nbformat": 4
 },
 "nbformat": 4,
 "nbformat_minor": 2
}
